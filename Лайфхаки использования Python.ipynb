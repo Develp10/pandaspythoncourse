{
 "cells": [
  {
   "cell_type": "code",
   "execution_count": null,
   "metadata": {},
   "outputs": [],
   "source": [
    "# нижнее подчёркивание _ сохраняет результат последней операции\n",
    "\n",
    "# нижнее подчёркивание можно использовать, как имя неважной переменной\n",
    "\n",
    "# нижнее подчёркивание можно использовать для создания приватных методов в классах"
   ]
  },
  {
   "cell_type": "code",
   "execution_count": 1,
   "metadata": {},
   "outputs": [
    {
     "data": {
      "text/plain": [
       "25"
      ]
     },
     "execution_count": 1,
     "metadata": {},
     "output_type": "execute_result"
    }
   ],
   "source": [
    "square = lambda x: x**2\n",
    "square(5)"
   ]
  },
  {
   "cell_type": "code",
   "execution_count": 2,
   "metadata": {},
   "outputs": [
    {
     "data": {
      "text/plain": [
       "[('Ivan', 12), ('Nastya', 29), ('Petya', 34), ('Masha', 56)]"
      ]
     },
     "execution_count": 2,
     "metadata": {},
     "output_type": "execute_result"
    }
   ],
   "source": [
    "# лямбда-функции для сортировки\n",
    "people = [\n",
    "    ('Nastya', 29),\n",
    "    ('Ivan', 12),\n",
    "    ('Masha', 56),\n",
    "    ('Petya', 34)\n",
    "]\n",
    "\n",
    "sorted(people, key=lambda person: person[1])"
   ]
  },
  {
   "cell_type": "code",
   "execution_count": 3,
   "metadata": {},
   "outputs": [
    {
     "data": {
      "text/plain": [
       "[{'name': 'Ada', 'height': 178},\n",
       " {'name': 'Bob', 'height': 189},\n",
       " {'name': 'Nicolas', 'height': 195}]"
      ]
     },
     "execution_count": 3,
     "metadata": {},
     "output_type": "execute_result"
    }
   ],
   "source": [
    "# лямбда-функции для сортировки\n",
    "people = (\n",
    "    {'name' : 'Bob', 'height' : 189}, \n",
    "    {'name' : 'Ada', 'height' : 178}, \n",
    "    {'name' : 'Nicolas', 'height' : 195}\n",
    ")\n",
    "\n",
    "sorted(people, key=lambda person : person['height'])"
   ]
  },
  {
   "cell_type": "code",
   "execution_count": 4,
   "metadata": {},
   "outputs": [
    {
     "data": {
      "text/plain": [
       "['kiwi', 'apple', 'banana', 'orange']"
      ]
     },
     "execution_count": 4,
     "metadata": {},
     "output_type": "execute_result"
    }
   ],
   "source": [
    "strings = ['apple', 'banana', 'orange', 'kiwi']\n",
    "sorted(strings, key=lambda x: len(x))"
   ]
  },
  {
   "cell_type": "code",
   "execution_count": 5,
   "metadata": {},
   "outputs": [
    {
     "name": "stdout",
     "output_type": "stream",
     "text": [
      "10\n"
     ]
    }
   ],
   "source": [
    "# лямбда-функция для вызова другой функции, функциональное программирование \n",
    "def outer_function(func):\n",
    "    return func(5)\n",
    "\n",
    "def inner_function(x):\n",
    "    return x * 2\n",
    "\n",
    "result = outer_function(lambda x: inner_function(x))\n",
    "print(result)  # Output: 10\n"
   ]
  },
  {
   "cell_type": "code",
   "execution_count": 9,
   "metadata": {},
   "outputs": [
    {
     "ename": "TypeError",
     "evalue": "'int' object is not callable",
     "output_type": "error",
     "traceback": [
      "\u001b[1;31m---------------------------------------------------------------------------\u001b[0m",
      "\u001b[1;31mTypeError\u001b[0m                                 Traceback (most recent call last)",
      "\u001b[1;32mc:\\Users\\Admin\\Downloads\\Лайфхаки использования Python.ipynb Ячейка 7\u001b[0m line \u001b[0;36m8\n\u001b[0;32m      <a href='vscode-notebook-cell:/c%3A/Users/Admin/Downloads/%D0%9B%D0%B0%D0%B9%D1%84%D1%85%D0%B0%D0%BA%D0%B8%20%D0%B8%D1%81%D0%BF%D0%BE%D0%BB%D1%8C%D0%B7%D0%BE%D0%B2%D0%B0%D0%BD%D0%B8%D1%8F%20Python.ipynb#X63sZmlsZQ%3D%3D?line=4'>5</a>\u001b[0m \u001b[39mdef\u001b[39;00m \u001b[39minner_function\u001b[39m(x):\n\u001b[0;32m      <a href='vscode-notebook-cell:/c%3A/Users/Admin/Downloads/%D0%9B%D0%B0%D0%B9%D1%84%D1%85%D0%B0%D0%BA%D0%B8%20%D0%B8%D1%81%D0%BF%D0%BE%D0%BB%D1%8C%D0%B7%D0%BE%D0%B2%D0%B0%D0%BD%D0%B8%D1%8F%20Python.ipynb#X63sZmlsZQ%3D%3D?line=5'>6</a>\u001b[0m     \u001b[39mreturn\u001b[39;00m x \u001b[39m*\u001b[39m \u001b[39m2\u001b[39m\n\u001b[1;32m----> <a href='vscode-notebook-cell:/c%3A/Users/Admin/Downloads/%D0%9B%D0%B0%D0%B9%D1%84%D1%85%D0%B0%D0%BA%D0%B8%20%D0%B8%D1%81%D0%BF%D0%BE%D0%BB%D1%8C%D0%B7%D0%BE%D0%B2%D0%B0%D0%BD%D0%B8%D1%8F%20Python.ipynb#X63sZmlsZQ%3D%3D?line=7'>8</a>\u001b[0m result \u001b[39m=\u001b[39m outer_function(inner_function(\u001b[39m2\u001b[39;49m))\n\u001b[0;32m      <a href='vscode-notebook-cell:/c%3A/Users/Admin/Downloads/%D0%9B%D0%B0%D0%B9%D1%84%D1%85%D0%B0%D0%BA%D0%B8%20%D0%B8%D1%81%D0%BF%D0%BE%D0%BB%D1%8C%D0%B7%D0%BE%D0%B2%D0%B0%D0%BD%D0%B8%D1%8F%20Python.ipynb#X63sZmlsZQ%3D%3D?line=8'>9</a>\u001b[0m \u001b[39mprint\u001b[39m(result)\n",
      "\u001b[1;32mc:\\Users\\Admin\\Downloads\\Лайфхаки использования Python.ipynb Ячейка 7\u001b[0m line \u001b[0;36m2\n\u001b[0;32m      <a href='vscode-notebook-cell:/c%3A/Users/Admin/Downloads/%D0%9B%D0%B0%D0%B9%D1%84%D1%85%D0%B0%D0%BA%D0%B8%20%D0%B8%D1%81%D0%BF%D0%BE%D0%BB%D1%8C%D0%B7%D0%BE%D0%B2%D0%B0%D0%BD%D0%B8%D1%8F%20Python.ipynb#X63sZmlsZQ%3D%3D?line=0'>1</a>\u001b[0m \u001b[39mdef\u001b[39;00m \u001b[39mouter_function\u001b[39m(func):\n\u001b[1;32m----> <a href='vscode-notebook-cell:/c%3A/Users/Admin/Downloads/%D0%9B%D0%B0%D0%B9%D1%84%D1%85%D0%B0%D0%BA%D0%B8%20%D0%B8%D1%81%D0%BF%D0%BE%D0%BB%D1%8C%D0%B7%D0%BE%D0%B2%D0%B0%D0%BD%D0%B8%D1%8F%20Python.ipynb#X63sZmlsZQ%3D%3D?line=1'>2</a>\u001b[0m     result \u001b[39m=\u001b[39m func(\u001b[39m5\u001b[39;49m)\n\u001b[0;32m      <a href='vscode-notebook-cell:/c%3A/Users/Admin/Downloads/%D0%9B%D0%B0%D0%B9%D1%84%D1%85%D0%B0%D0%BA%D0%B8%20%D0%B8%D1%81%D0%BF%D0%BE%D0%BB%D1%8C%D0%B7%D0%BE%D0%B2%D0%B0%D0%BD%D0%B8%D1%8F%20Python.ipynb#X63sZmlsZQ%3D%3D?line=2'>3</a>\u001b[0m     \u001b[39mreturn\u001b[39;00m result\n",
      "\u001b[1;31mTypeError\u001b[0m: 'int' object is not callable"
     ]
    }
   ],
   "source": [
    "def outer_function(func):\n",
    "    result = func(5)\n",
    "    return result\n",
    "\n",
    "def inner_function(x):\n",
    "    return x * 2\n",
    "\n",
    "result = outer_function(inner_function(2))\n",
    "print(result)"
   ]
  },
  {
   "cell_type": "code",
   "execution_count": 10,
   "metadata": {},
   "outputs": [
    {
     "data": {
      "text/plain": [
       "[2, 4, 6, 8]"
      ]
     },
     "execution_count": 10,
     "metadata": {},
     "output_type": "execute_result"
    }
   ],
   "source": [
    "numbers = [1, 2, 3, 4, 5, 6, 7, 8, 9]\n",
    "list(filter(lambda x: x % 2 == 0, numbers))"
   ]
  },
  {
   "cell_type": "code",
   "execution_count": 11,
   "metadata": {},
   "outputs": [
    {
     "data": {
      "text/plain": [
       "[1, 4, 9, 16, 25]"
      ]
     },
     "execution_count": 11,
     "metadata": {},
     "output_type": "execute_result"
    }
   ],
   "source": [
    "numbers = [1, 2, 3, 4, 5]\n",
    "list(map(lambda x: x**2, numbers))"
   ]
  },
  {
   "cell_type": "code",
   "execution_count": 12,
   "metadata": {},
   "outputs": [
    {
     "data": {
      "text/plain": [
       "['Yang', 'Mask', 'Thomas', 'Lisa']"
      ]
     },
     "execution_count": 12,
     "metadata": {},
     "output_type": "execute_result"
    }
   ],
   "source": [
    "# map позволяет избегать циклов\n",
    "names = ['yAnG', 'MASk', 'thoMas', 'LISA']\n",
    "list(map(str.capitalize, names))"
   ]
  },
  {
   "cell_type": "code",
   "execution_count": 13,
   "metadata": {},
   "outputs": [
    {
     "name": "stdout",
     "output_type": "stream",
     "text": [
      "Jack 12 yellow\n",
      "Dan 34 black\n",
      "May 56 gray\n",
      "Jim 78 maroon\n"
     ]
    }
   ],
   "source": [
    "# использование zip() для одновременного итерирования по нескольким объектам\n",
    "\n",
    "names = ['Jack', 'Dan', 'May', 'Jim']\n",
    "ages = (12, 34, 56, 78, 91, 23, 45)\n",
    "colors = {'blue', 'red', 'green', 'yellow', 'maroon', 'black', 'gray'}\n",
    "\n",
    "for name, age, color in zip(names, ages, colors):\n",
    "    print(name, age, color)"
   ]
  },
  {
   "cell_type": "code",
   "execution_count": 14,
   "metadata": {},
   "outputs": [
    {
     "data": {
      "text/plain": [
       "[('Jack', 12, 'yellow'),\n",
       " ('Dan', 34, 'black'),\n",
       " ('May', 56, 'gray'),\n",
       " ('Jim', 78, 'maroon')]"
      ]
     },
     "execution_count": 14,
     "metadata": {},
     "output_type": "execute_result"
    }
   ],
   "source": [
    "names = ['Jack', 'Dan', 'May', 'Jim']\n",
    "ages = (12, 34, 56, 78, 91, 23, 45)\n",
    "colors = {'blue', 'red', 'green', 'yellow', 'maroon', 'black', 'gray'}\n",
    "\n",
    "list(zip(names, ages, colors))"
   ]
  },
  {
   "cell_type": "code",
   "execution_count": 15,
   "metadata": {},
   "outputs": [
    {
     "name": "stdout",
     "output_type": "stream",
     "text": [
      "1 2 3\n"
     ]
    }
   ],
   "source": [
    "# распаковка элементов\n",
    "a, b, c = '123'\n",
    "print(a, b, c)"
   ]
  },
  {
   "cell_type": "code",
   "execution_count": 16,
   "metadata": {},
   "outputs": [
    {
     "name": "stdout",
     "output_type": "stream",
     "text": [
      "1 2 ['3', '4', '5']\n"
     ]
    }
   ],
   "source": [
    "a, b, *c = '12345'\n",
    "print(a, b, c)"
   ]
  },
  {
   "cell_type": "code",
   "execution_count": 17,
   "metadata": {},
   "outputs": [
    {
     "data": {
      "text/plain": [
       "[1, 2, 3, 4, 5, 6, 8, 9, 7]"
      ]
     },
     "execution_count": 17,
     "metadata": {},
     "output_type": "execute_result"
    }
   ],
   "source": [
    "# объединение при помощи *\n",
    "A = [1, 2, 3]\n",
    "B = (4, 5, 6)\n",
    "C = {7, 8, 9}\n",
    "\n",
    "[*A, *B, *C]"
   ]
  },
  {
   "cell_type": "code",
   "execution_count": 18,
   "metadata": {},
   "outputs": [
    {
     "name": "stdout",
     "output_type": "stream",
     "text": [
      "(1, 'one') (2, 'two')\n"
     ]
    }
   ],
   "source": [
    "dictionary = {1 : 'one', 2 : 'two'}\n",
    "a, b = dictionary.items()\n",
    "print(a, b)"
   ]
  },
  {
   "cell_type": "code",
   "execution_count": 20,
   "metadata": {},
   "outputs": [
    {
     "data": {
      "text/plain": [
       "'этого имени нет'"
      ]
     },
     "execution_count": 20,
     "metadata": {},
     "output_type": "execute_result"
    }
   ],
   "source": [
    "# использование .get() для доступа к элементу словаря без ошибки\n",
    "people = {\n",
    "    'May' : 'blue', \n",
    "    'John' : 'gray', \n",
    "    'Sveta' : 'red'\n",
    "}\n",
    "\n",
    "people.get('Jim', 'этого имени нет')\n",
    "# people['Jim']"
   ]
  },
  {
   "cell_type": "code",
   "execution_count": 22,
   "metadata": {},
   "outputs": [
    {
     "name": "stdout",
     "output_type": "stream",
     "text": [
      "{1: 'one', 2: 'two', 3: 'three', 4: 'four'}\n"
     ]
    }
   ],
   "source": [
    "# использование .setdefault() - создаёт элемент, если его нет\n",
    "people = {\n",
    "    1 : 'one', \n",
    "    2 : 'two', \n",
    "    3 : 'three'\n",
    "}\n",
    "\n",
    "people.setdefault(3, 'four')\n",
    "people.setdefault(4, 'four')\n",
    "print(people)"
   ]
  },
  {
   "cell_type": "code",
   "execution_count": 23,
   "metadata": {},
   "outputs": [
    {
     "name": "stdout",
     "output_type": "stream",
     "text": [
      "1--2--3--4--5--6--7\n",
      "1 2 3 4 5 6 7<===="
     ]
    }
   ],
   "source": [
    "# параметры sep и end в print()\n",
    "nums = [1, 2, 3, 4, 5, 6, 7]\n",
    "\n",
    "print(*nums, sep='--')\n",
    "print(*nums, end='<====')"
   ]
  },
  {
   "cell_type": "code",
   "execution_count": 24,
   "metadata": {},
   "outputs": [
    {
     "name": "stdout",
     "output_type": "stream",
     "text": [
      "f\n",
      "('f', 'e', 'd', 'c', 'b', 'a')\n"
     ]
    }
   ],
   "source": [
    "# отрицательные индексы\n",
    "elements = ('a', 'b', 'c', 'd', 'e', 'f')\n",
    "print(elements[-1])\n",
    "print(elements[::-1])"
   ]
  },
  {
   "cell_type": "code",
   "execution_count": 26,
   "metadata": {},
   "outputs": [
    {
     "name": "stdout",
     "output_type": "stream",
     "text": [
      "10\n"
     ]
    }
   ],
   "source": [
    "# else в блоках for и while\n",
    "for num in range(11):\n",
    "    if num == 10:\n",
    "        print(num)\n",
    "        break\n",
    "\n",
    "else:\n",
    "    print('до 10 мы не дошли')"
   ]
  },
  {
   "cell_type": "code",
   "execution_count": 28,
   "metadata": {},
   "outputs": [
    {
     "name": "stdout",
     "output_type": "stream",
     "text": [
      "10\n"
     ]
    }
   ],
   "source": [
    "i = 0\n",
    "while i < 10:\n",
    "    i += 1 \n",
    "\n",
    "    if i == 10:\n",
    "        print(i)\n",
    "        break\n",
    "else:\n",
    "    print('i != 10 всегда')"
   ]
  },
  {
   "cell_type": "code",
   "execution_count": 29,
   "metadata": {},
   "outputs": [
    {
     "name": "stdout",
     "output_type": "stream",
     "text": [
      "x=1, y=2\n",
      "x=2, y=1\n"
     ]
    }
   ],
   "source": [
    "# обмен значениями в одну строку\n",
    "x, y = 1, 2\n",
    "print(f'{x=}, {y=}')\n",
    "\n",
    "x, y = y, x \n",
    "print(f'{x=}, {y=}')"
   ]
  },
  {
   "cell_type": "code",
   "execution_count": 31,
   "metadata": {},
   "outputs": [
    {
     "data": {
      "text/plain": [
       "14"
      ]
     },
     "execution_count": 31,
     "metadata": {},
     "output_type": "execute_result"
    }
   ],
   "source": [
    "# тернарный оператор\n",
    "a = 11\n",
    "b = 13 if a == 12 else 14\n",
    "b"
   ]
  },
  {
   "cell_type": "code",
   "execution_count": 32,
   "metadata": {},
   "outputs": [
    {
     "name": "stdout",
     "output_type": "stream",
     "text": [
      "[0, 1, 2, 3, 4, 5, 6, 7, 8, 9]\n",
      "[0, 2, 4, 6, 8]\n",
      "[0, '_', 2, '_', 4, '_', 6, '_', 8, '_']\n"
     ]
    }
   ],
   "source": [
    "# list comprehensions\n",
    "print(\n",
    "    [i for i in range(10)], \n",
    "    [i for i in range(10) if i % 2 == 0],\n",
    "    [i if i % 2 == 0 else '_' for i in range(10)],\n",
    "    sep='\\n'\n",
    ")"
   ]
  },
  {
   "cell_type": "code",
   "execution_count": 33,
   "metadata": {},
   "outputs": [
    {
     "data": {
      "text/plain": [
       "{0: 'a',\n",
       " 1: 'a',\n",
       " 2: 'a',\n",
       " 3: 'a',\n",
       " 4: 'a',\n",
       " 5: 'a',\n",
       " 6: 'a',\n",
       " 7: 'a',\n",
       " 8: 'a',\n",
       " 9: 'a'}"
      ]
     },
     "execution_count": 33,
     "metadata": {},
     "output_type": "execute_result"
    }
   ],
   "source": [
    "{x : y for x in range(10) for y in 'a'*10}"
   ]
  },
  {
   "cell_type": "code",
   "execution_count": 34,
   "metadata": {},
   "outputs": [
    {
     "data": {
      "text/plain": [
       "[[0, 1, 2], [0, 1, 2], [0, 1, 2], [0, 1, 2]]"
      ]
     },
     "execution_count": 34,
     "metadata": {},
     "output_type": "execute_result"
    }
   ],
   "source": [
    "[[j for j in range(3)] for i in range(4)]"
   ]
  },
  {
   "cell_type": "code",
   "execution_count": 35,
   "metadata": {},
   "outputs": [
    {
     "name": "stdout",
     "output_type": "stream",
     "text": [
      "(4, 5, 6)\n",
      "{'one': 1, 'two': 2, 'three': 3}\n"
     ]
    }
   ],
   "source": [
    "# args, kwargs\n",
    "def main(*args, **kwargs):\n",
    "    print(args)\n",
    "    print(kwargs)\n",
    "\n",
    "main(4, 5, 6, one=1, two=2, three=3)    "
   ]
  },
  {
   "cell_type": "code",
   "execution_count": 36,
   "metadata": {},
   "outputs": [],
   "source": [
    "def nothing():\n",
    "    ...\n",
    "\n",
    "nothing()    "
   ]
  },
  {
   "cell_type": "code",
   "execution_count": 37,
   "metadata": {},
   "outputs": [
    {
     "name": "stdout",
     "output_type": "stream",
     "text": [
      "70 2000 7\n"
     ]
    }
   ],
   "source": [
    "# использование itertools поможет избежать вложенных циклов\n",
    "list_a = [1, 2020, 70]\n",
    "list_b = [2, 4, 7, 2000]\n",
    "list_c = [3, 70, 7]\n",
    "\n",
    "for a in list_a:\n",
    "    for b in list_b:\n",
    "        for c in list_c:\n",
    "            if a + b + c == 2077:\n",
    "                print(a, b, c)"
   ]
  },
  {
   "cell_type": "code",
   "execution_count": 38,
   "metadata": {},
   "outputs": [
    {
     "name": "stdout",
     "output_type": "stream",
     "text": [
      "70 2000 7\n"
     ]
    }
   ],
   "source": [
    "from itertools import product\n",
    "\n",
    "list_a = [1, 2020, 70]\n",
    "list_b = [2, 4, 7, 2000]\n",
    "list_c = [3, 70, 7]\n",
    "\n",
    "for a, b, c in product(list_a, list_b, list_c):\n",
    "    if a + b + c == 2077:\n",
    "        print(a, b, c)"
   ]
  },
  {
   "cell_type": "code",
   "execution_count": 39,
   "metadata": {},
   "outputs": [
    {
     "name": "stdout",
     "output_type": "stream",
     "text": [
      "Jim\n"
     ]
    }
   ],
   "source": [
    "# есть способ создавать переменную сразу в print() или в условии\n",
    "person = \"Jim\"\n",
    "print(person)"
   ]
  },
  {
   "cell_type": "code",
   "execution_count": 40,
   "metadata": {},
   "outputs": [
    {
     "name": "stdout",
     "output_type": "stream",
     "text": [
      "Jim\n"
     ]
    }
   ],
   "source": [
    "print(person := \"Jim\")"
   ]
  },
  {
   "cell_type": "code",
   "execution_count": 41,
   "metadata": {},
   "outputs": [
    {
     "data": {
      "text/plain": [
       "{'New York City': 'US',\n",
       " 'Los Angeles': 'US',\n",
       " 'London': 'UK',\n",
       " 'Birmingham': 'UK'}"
      ]
     },
     "execution_count": 41,
     "metadata": {},
     "output_type": "execute_result"
    }
   ],
   "source": [
    "# можно объединять словари таким образом\n",
    "cities_us = {'New York City': 'US', 'Los Angeles': 'US'}\n",
    "cities_uk = {'London': 'UK', 'Birmingham': 'UK'}\n",
    "\n",
    "cities_us | cities_uk"
   ]
  },
  {
   "cell_type": "code",
   "execution_count": 42,
   "metadata": {},
   "outputs": [
    {
     "data": {
      "text/plain": [
       "{'New York City': 'US',\n",
       " 'Los Angeles': 'US',\n",
       " 'London': 'UK',\n",
       " 'Birmingham': 'UK'}"
      ]
     },
     "execution_count": 42,
     "metadata": {},
     "output_type": "execute_result"
    }
   ],
   "source": [
    "{**cities_us, **cities_uk}"
   ]
  },
  {
   "cell_type": "code",
   "execution_count": 43,
   "metadata": {},
   "outputs": [
    {
     "data": {
      "text/plain": [
       "'name is Jack, age is 33, country is UK'"
      ]
     },
     "execution_count": 43,
     "metadata": {},
     "output_type": "execute_result"
    }
   ],
   "source": [
    "data = {\n",
    "    'name' : 'Jack', \n",
    "    'age' : 33, \n",
    "    'country' : 'UK'\n",
    "}\n",
    "\n",
    "'name is %(name)s, age is %(age)s, country is %(country)s' % data"
   ]
  }
 ],
 "metadata": {
  "kernelspec": {
   "display_name": "Python 3",
   "language": "python",
   "name": "python3"
  },
  "language_info": {
   "codemirror_mode": {
    "name": "ipython",
    "version": 3
   },
   "file_extension": ".py",
   "mimetype": "text/x-python",
   "name": "python",
   "nbconvert_exporter": "python",
   "pygments_lexer": "ipython3",
   "version": "3.11.5"
  }
 },
 "nbformat": 4,
 "nbformat_minor": 2
}
