{
 "cells": [
  {
   "cell_type": "markdown",
   "id": "80f47e4e-f2e2-43a1-8b14-9f9108b1c616",
   "metadata": {},
   "source": [
    "![](https://i.imgur.com/mctEW6p.png)"
   ]
  },
  {
   "cell_type": "code",
   "execution_count": 3,
   "id": "77a284c9-2327-427d-a588-4df8fb6eea62",
   "metadata": {},
   "outputs": [
    {
     "name": "stdin",
     "output_type": "stream",
     "text": [
      " 1 8 4 9\n",
      " 6 6 8 8\n"
     ]
    },
    {
     "name": "stdout",
     "output_type": "stream",
     "text": [
      "49\n"
     ]
    }
   ],
   "source": [
    "x1, y1, x2, y2 = map(int, input().split())\n",
    "x3, y3, x4, y4 = map(int, input().split())\n",
    "\n",
    "rx = max(x1, x2, x3, x4) - min(x1, x2, x3, x4)\n",
    "ry = max(y1, y2, y3, y4) - min(y1, y2, y3, y4)\n",
    "\n",
    "print(max(rx, ry)**2)"
   ]
  },
  {
   "cell_type": "markdown",
   "id": "e12ed029-48a0-4e4d-8788-910f3176c95a",
   "metadata": {},
   "source": [
    "![](https://i.imgur.com/4VLEDUA.png)"
   ]
  },
  {
   "cell_type": "code",
   "execution_count": 4,
   "id": "71632307-07c8-4dd2-8d50-aabfa21d1763",
   "metadata": {},
   "outputs": [
    {
     "name": "stdin",
     "output_type": "stream",
     "text": [
      " 5\n",
      " MIK VL GR\n",
      " VL MIK GR\n",
      " IV IL VL\n",
      " AN VL IL\n",
      " VL IV AN\n"
     ]
    },
    {
     "name": "stdout",
     "output_type": "stream",
     "text": [
      "2\n"
     ]
    }
   ],
   "source": [
    "N = int(input())\n",
    "team_sets = []\n",
    "for _ in range(N):\n",
    "    team_sets.append(set(input().split()))\n",
    "\n",
    "mx = 0\n",
    "for t in team_sets:\n",
    "    mx = max(mx, team_sets.count(t))\n",
    "\n",
    "print(mx)"
   ]
  },
  {
   "cell_type": "markdown",
   "id": "779d3fcc-a84c-4b53-9e72-7284152c835c",
   "metadata": {},
   "source": [
    "![](https://i.imgur.com/GKsvSOO.png)"
   ]
  },
  {
   "cell_type": "code",
   "execution_count": 6,
   "id": "90824949-e99a-4734-908f-c4939c63bb2e",
   "metadata": {},
   "outputs": [
    {
     "name": "stdin",
     "output_type": "stream",
     "text": [
      " 2 3\n",
      " ATSR\n",
      " ASR\n",
      " S R\n",
      " AT R\n",
      " A R\n"
     ]
    },
    {
     "name": "stdout",
     "output_type": "stream",
     "text": [
      "0\n",
      "1\n",
      "2\n"
     ]
    }
   ],
   "source": [
    "n, m = map(int, input().split())\n",
    "dom = []\n",
    "req = []\n",
    "for _ in range(n):\n",
    "    dom.append(input())\n",
    "for _ in range(m):\n",
    "    req.append(input())\n",
    "\n",
    "for r in req:\n",
    "\tstart, end = r.split()\n",
    "\tk = 0\n",
    "\tfor d in dom:\n",
    "\t\tif d.find(start) == 0 and d.find(end) == len(d)-len(end):\n",
    "\t\t\tk += 1\n",
    "\tprint(k)"
   ]
  },
  {
   "cell_type": "markdown",
   "id": "d155833a-437f-4f30-8cec-fd1fd7e73eab",
   "metadata": {},
   "source": [
    "<img src=\"https://i.imgur.com/yNBuzKk.png\" style=\"zoom:130%;\" />"
   ]
  },
  {
   "cell_type": "code",
   "execution_count": 14,
   "id": "638ef7f3-6045-4c14-8d1d-bbd07051de95",
   "metadata": {},
   "outputs": [
    {
     "name": "stdin",
     "output_type": "stream",
     "text": [
      " 2\n",
      " 1 2\n"
     ]
    },
    {
     "name": "stdout",
     "output_type": "stream",
     "text": [
      "1\n"
     ]
    }
   ],
   "source": [
    "n = int(input())\n",
    "mx = 0\n",
    "s = list(map(int, input().split()))\n",
    "for a in range(0, len(s)-1):\n",
    "\tfor b in range(a+1, len(s)):\n",
    "\t\ts[a], s[b] = s[b], s[a]\n",
    "\t\tmx = max(mx, sum(s[0::2]) - sum(s[1::2]))\n",
    "\t\ts[a], s[b] = s[b], s[a]\n",
    "\n",
    "print(mx)\t\t"
   ]
  },
  {
   "cell_type": "markdown",
   "id": "34502d08-f5ab-4ca5-bced-7e289f0af223",
   "metadata": {},
   "source": [
    "<img src=\"https://i.imgur.com/jDu6Y8s.png\" style=\"zoom:110%;\" />"
   ]
  },
  {
   "cell_type": "code",
   "execution_count": 18,
   "id": "bb45c285-aa71-42d8-84d8-f628087c4063",
   "metadata": {},
   "outputs": [
    {
     "name": "stdin",
     "output_type": "stream",
     "text": [
      " 7\n",
      " 2 6\n",
      " 5 6\n",
      " 2 5\n",
      " 2 2\n",
      " 6 8\n",
      " 2 2\n",
      " 0 2\n"
     ]
    },
    {
     "name": "stdout",
     "output_type": "stream",
     "text": [
      "6\n"
     ]
    }
   ],
   "source": [
    "n = int(input())\n",
    "elevators = [list(map(int, input().split())) for _ in range(n)]\n",
    "elevators.sort()\n",
    "\n",
    "taken = [elevators[0]]\n",
    "for el in elevators[1:]:\n",
    "\tdown, up = el\n",
    "\tif down == taken[-1][1]:\n",
    "\t\ttaken.append(el)\n",
    "\n",
    "print(len(taken))"
   ]
  },
  {
   "cell_type": "markdown",
   "id": "ab1b297e-dd21-414b-ab88-3d614825934c",
   "metadata": {},
   "source": [
    "Задания любезно предоставлены [PyLounge](https://github.com/pylounge/tinkoff-start-solve-pylounge/blob/main/%D0%97%D0%B0%D0%B4%D0%B0%D1%87%D0%B8/%D0%B7%D0%B0%D0%B4%D0%B0%D1%87%D0%B0%208%20%D0%A2%D0%B8%D0%BD%D1%8C%D0%BA%D0%BE%D1%84%D1%84.PNG)"
   ]
  }
 ],
 "metadata": {
  "kernelspec": {
   "display_name": "Python 3 (ipykernel)",
   "language": "python",
   "name": "python3"
  },
  "language_info": {
   "codemirror_mode": {
    "name": "ipython",
    "version": 3
   },
   "file_extension": ".py",
   "mimetype": "text/x-python",
   "name": "python",
   "nbconvert_exporter": "python",
   "pygments_lexer": "ipython3",
   "version": "3.11.5"
  }
 },
 "nbformat": 4,
 "nbformat_minor": 5
}
