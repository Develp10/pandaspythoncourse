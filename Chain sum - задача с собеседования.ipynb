{
 "cells": [
  {
   "cell_type": "code",
   "execution_count": null,
   "metadata": {},
   "outputs": [],
   "source": [
    "'''\n",
    "chainsum(1)(2)(3)() -> 6 \n",
    "chainsum(1)()       -> 1 \n",
    "chainsum(4)(5)()    -> 9\n",
    "'''"
   ]
  },
  {
   "cell_type": "code",
   "execution_count": 4,
   "metadata": {},
   "outputs": [
    {
     "name": "stdout",
     "output_type": "stream",
     "text": [
      "18\n"
     ]
    }
   ],
   "source": [
    "def chainsum(number):\n",
    "    \n",
    "    def nextnumber(number2=None):\n",
    "        nonlocal number \n",
    "        if number2 is None:\n",
    "            return number \n",
    "        else:\n",
    "            number += number2 \n",
    "            return nextnumber \n",
    "    \n",
    "    return nextnumber \n",
    "\n",
    "\n",
    "print(chainsum(9)(9)())"
   ]
  },
  {
   "cell_type": "code",
   "execution_count": 5,
   "metadata": {},
   "outputs": [
    {
     "name": "stdout",
     "output_type": "stream",
     "text": [
      "81\n"
     ]
    }
   ],
   "source": [
    "def chainsum(number):\n",
    "    \n",
    "    def nextnumber(number2=None):\n",
    "        nonlocal number \n",
    "        try:\n",
    "            number += number2 \n",
    "            return nextnumber \n",
    "        except:\n",
    "            return number\n",
    "    \n",
    "    return nextnumber \n",
    "\n",
    "\n",
    "print(chainsum(9)(9)(9)(9)(9)(9)(9)(9)(9)())"
   ]
  },
  {
   "cell_type": "code",
   "execution_count": 7,
   "metadata": {},
   "outputs": [
    {
     "name": "stdout",
     "output_type": "stream",
     "text": [
      "6\n",
      "9\n",
      "1\n",
      "<__main__.ChainSum object at 0x000002513DF9CF90>\n"
     ]
    }
   ],
   "source": [
    "class ChainSum:\n",
    "    def __init__(self, value):\n",
    "        self.value = value  # _value - внутр. атрибут\n",
    "\n",
    "    def __call__(self, next_value=None):\n",
    "        if next_value is None:\n",
    "            return self.value\n",
    "        else:\n",
    "            return ChainSum(self.value + next_value)\n",
    "\n",
    "\n",
    "print(ChainSum(1)(2)(3)(),\n",
    "      ChainSum(4)(5)(),\n",
    "      ChainSum(1)(), \n",
    "      ChainSum(1), \n",
    "      sep='\\n')"
   ]
  },
  {
   "cell_type": "code",
   "execution_count": 13,
   "metadata": {},
   "outputs": [
    {
     "name": "stdout",
     "output_type": "stream",
     "text": [
      "9\n",
      "49\n",
      "unsupported operand type(s) for *: 'ChainSum' and 'int'\n"
     ]
    }
   ],
   "source": [
    "class ChainSum:\n",
    "    def __init__(self, value):\n",
    "        self.value = value\n",
    "\n",
    "    def __call__(self, next_value=None):\n",
    "        if next_value is None:\n",
    "            return self.value\n",
    "        else:\n",
    "            return ChainSum(self.value + next_value)\n",
    "        \n",
    "    def __str__(self):\n",
    "        return str(self.value)\n",
    "    \n",
    "    def __repr__(self):\n",
    "        return str(self.value)\n",
    "    \n",
    "    def __add__(self, another_value):\n",
    "        return self.value + another_value\n",
    "\n",
    "\n",
    "print(ChainSum(3)(3)(3), \n",
    "      ChainSum(7)(7)(7)(7)(7)(7)(7)(),\n",
    "      sep='\\n')    \n",
    "\n",
    "try:\n",
    "    print(ChainSum(3)(3)(3) * 1)\n",
    "except Exception as ex:\n",
    "    print(ex)"
   ]
  },
  {
   "cell_type": "code",
   "execution_count": 15,
   "metadata": {},
   "outputs": [
    {
     "name": "stdout",
     "output_type": "stream",
     "text": [
      "9\n",
      "49\n",
      "10\n",
      "98\n"
     ]
    }
   ],
   "source": [
    "class ChainSum(int):\n",
    "    def __call__(self, next_value=0):\n",
    "        return ChainSum(self + next_value)\n",
    "    \n",
    "print(ChainSum(3)(3)(3),\n",
    "      ChainSum(7)(7)(7)(7)(7)(7)(7)(), \n",
    "      sep='\\n')    \n",
    "\n",
    "print(ChainSum(3)(3)(3) + 1,\n",
    "      ChainSum(7)(7)(7)(7)(7)(7)(7)() * 2, \n",
    "      sep='\\n')"
   ]
  }
 ],
 "metadata": {
  "kernelspec": {
   "display_name": "Python 3",
   "language": "python",
   "name": "python3"
  },
  "language_info": {
   "codemirror_mode": {
    "name": "ipython",
    "version": 3
   },
   "file_extension": ".py",
   "mimetype": "text/x-python",
   "name": "python",
   "nbconvert_exporter": "python",
   "pygments_lexer": "ipython3",
   "version": "3.11.5"
  }
 },
 "nbformat": 4,
 "nbformat_minor": 2
}
