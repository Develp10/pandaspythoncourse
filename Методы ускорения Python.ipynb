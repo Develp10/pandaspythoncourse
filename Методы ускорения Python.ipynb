{
 "cells": [
  {
   "cell_type": "code",
   "execution_count": 2,
   "metadata": {},
   "outputs": [
    {
     "name": "stdout",
     "output_type": "stream",
     "text": [
      "CPU times: total: 3.28 s\n",
      "Wall time: 3.44 s\n"
     ]
    }
   ],
   "source": [
    "def factorial(x):\n",
    "    f = 1\n",
    "    for i in range(1, x+1):\n",
    "        f *= i\n",
    "    return f\n",
    "\n",
    "\n",
    "%time a = factorial(100000)"
   ]
  },
  {
   "cell_type": "code",
   "execution_count": 3,
   "metadata": {},
   "outputs": [
    {
     "name": "stdout",
     "output_type": "stream",
     "text": [
      "CPU times: total: 547 ms\n",
      "Wall time: 642 ms\n"
     ]
    }
   ],
   "source": [
    "from numba import jit\n",
    "\n",
    "@jit(nopython=True, fastmath=True)\n",
    "def factorial(x):\n",
    "    f = 1\n",
    "    for i in range(1, x+1):\n",
    "        f *= i\n",
    "    return f\n",
    "\n",
    "\n",
    "%time a = factorial(100000)"
   ]
  },
  {
   "cell_type": "code",
   "execution_count": 20,
   "metadata": {},
   "outputs": [
    {
     "name": "stdout",
     "output_type": "stream",
     "text": [
      "CPU times: total: 0 ns\n",
      "Wall time: 8 ms\n"
     ]
    }
   ],
   "source": [
    "from numba import jit\n",
    "\n",
    "@jit(nopython=True, fastmath=True, cache=True)\n",
    "def factorial(x):\n",
    "    f = 1\n",
    "    for i in range(1, x+1):\n",
    "        f *= i\n",
    "    return f\n",
    "\n",
    "\n",
    "%time a = factorial(100000)"
   ]
  },
  {
   "cell_type": "code",
   "execution_count": 33,
   "metadata": {},
   "outputs": [
    {
     "name": "stdout",
     "output_type": "stream",
     "text": [
      "CPU times: total: 15.6 ms\n",
      "Wall time: 18 ms\n"
     ]
    }
   ],
   "source": [
    "from numba import jit, prange\n",
    "\n",
    "@jit(nopython=True, fastmath=True, cache=True, parallel=True)\n",
    "def factorial(x):\n",
    "    f = 1\n",
    "    for i in prange(1, x+1):\n",
    "        f *= i\n",
    "    return f\n",
    "\n",
    "\n",
    "%time a = factorial(100000)"
   ]
  },
  {
   "cell_type": "code",
   "execution_count": 34,
   "metadata": {},
   "outputs": [
    {
     "name": "stdout",
     "output_type": "stream",
     "text": [
      "[Taichi] version 1.6.0, llvm 15.0.1, commit f1c6fbbd, win, python 3.11.5\n",
      "[Taichi] Starting on arch=x64\n",
      "CPU times: total: 109 ms\n",
      "Wall time: 161 ms\n"
     ]
    }
   ],
   "source": [
    "import taichi as ti\n",
    "\n",
    "@ti.func\n",
    "def factorial_taichi(x):\n",
    "    f = 1\n",
    "    for i in range(1, x+1):\n",
    "        f *= i\n",
    "    return f\n",
    "\n",
    "\n",
    "ti.init()\n",
    "f = ti.field(dtype=ti.i32, shape=())\n",
    "@ti.kernel\n",
    "def compute():\n",
    "    f[None] = factorial_taichi(100000)\n",
    "\n",
    "%time a = compute()"
   ]
  },
  {
   "cell_type": "code",
   "execution_count": null,
   "metadata": {},
   "outputs": [],
   "source": [
    "# визуализация пузырьковой сортировки при помощи Pygame, если не работает, вынеси в отдельный файл\n",
    "\n",
    "import pygame as pg\n",
    "import random\n",
    "from time import sleep\n",
    "\n",
    "# инициализация Pygame\n",
    "pg.init()\n",
    "\n",
    "# константы для окна и столбиков\n",
    "SCREEN_WIDTH = 400  # 800\n",
    "SCREEN_HEIGHT = 600\n",
    "BAR_WIDTH = 6\n",
    "BAR_HEIGHT_UNIT = 4\n",
    "BAR_GAP = 2\n",
    "\n",
    "# цвета\n",
    "BLACK = (0, 0, 0)\n",
    "WHITE = (255, 255, 255)\n",
    "GRAY = (128, 128, 128)\n",
    "RED = (255, 0, 0)\n",
    "\n",
    "# создание окна\n",
    "screen = pg.display.set_mode((SCREEN_WIDTH, SCREEN_HEIGHT))\n",
    "\n",
    "# создание случайного списка для сортировки\n",
    "bars = [random.randint(1, 150) for _ in range(50)]\n",
    "\n",
    "# функция отрисовки столбиков\n",
    "def draw_bars(current_index=None, swapped_index=None):\n",
    "    screen.fill(GRAY)\n",
    "    for i, height in enumerate(bars):\n",
    "        x = i * (BAR_WIDTH + BAR_GAP) + BAR_GAP\n",
    "        y = SCREEN_HEIGHT - BAR_HEIGHT_UNIT * height\n",
    "        color = RED if i == current_index or i == swapped_index else WHITE\n",
    "        pg.draw.rect(screen, color, (x, y, BAR_WIDTH, BAR_HEIGHT_UNIT * height))\n",
    "\n",
    "# функция пузырьковой сортировки\n",
    "def bubble_sort():\n",
    "    for i in range(len(bars)):\n",
    "        for j in range(len(bars) - i - 1):\n",
    "            if bars[j] > bars[j+1]:\n",
    "                # обмен элементов\n",
    "                bars[j], bars[j+1] = bars[j+1], bars[j]\n",
    "                # отрисовка обмена\n",
    "                draw_bars(j, j+1)\n",
    "                sleep(0.01)  # тут мы регулируем скорость анимации\n",
    "                pg.display.update()\n",
    "\n",
    "# основной цикл программы\n",
    "clock = pg.time.Clock()\n",
    "running = True\n",
    "while running:\n",
    "    for event in pg.event.get():\n",
    "        if event.type == pg.QUIT:\n",
    "            running = False\n",
    "\n",
    "    # отрисовка начального состояния\n",
    "    draw_bars()\n",
    "    pg.display.flip()\n",
    "    fps = clock.get_fps()\n",
    "    pg.display.set_caption(f\"{fps = }\")\n",
    "\n",
    "    # сортировка и отрисовка\n",
    "    bubble_sort()\n",
    "\n",
    "    # ожидание закрытия окна\n",
    "    while True:\n",
    "        event = pg.event.wait()\n",
    "        if event.type == pg.QUIT:\n",
    "            running = False\n",
    "            break\n",
    "\n",
    "# завершение Pygame\n",
    "pg.quit()"
   ]
  },
  {
   "cell_type": "code",
   "execution_count": 39,
   "metadata": {},
   "outputs": [
    {
     "name": "stdout",
     "output_type": "stream",
     "text": [
      "4.99 s ± 76.5 ms per loop (mean ± std. dev. of 7 runs, 1 loop each)\n",
      "722 µs ± 27.7 µs per loop (mean ± std. dev. of 7 runs, 1 loop each)\n",
      "1.12 ms ± 10.5 µs per loop (mean ± std. dev. of 7 runs, 1,000 loops each)\n"
     ]
    }
   ],
   "source": [
    "import random\n",
    "numbers_ = [random.randint(0, 100) for _ in range(10_000)]\n",
    "numbers = numbers_.copy()\n",
    "\n",
    "\n",
    "# Функция для пузырьковой сортировки\n",
    "def bubblesort(numbers):\n",
    "    n = len(numbers)\n",
    "    for i in range(n):\n",
    "        for j in range(0, n-i-1):\n",
    "            if numbers[j] > numbers[j+1]:\n",
    "                numbers[j], numbers[j+1] = numbers[j+1], numbers[j]\n",
    "    return numbers\n",
    "\n",
    "\n",
    "def bubblesort_opt(numbers):\n",
    "    n = len(numbers)\n",
    "    for i in range(n, -1, -1):\n",
    "        swapped = False\n",
    "        for j in range(i-1):\n",
    "            if numbers[j] > numbers[j + 1]:\n",
    "                numbers[j], numbers[j + 1] = numbers[j + 1], numbers[j]\n",
    "                swapped = True\n",
    "        if not swapped:\n",
    "            break\n",
    "    return numbers\n",
    "\n",
    "\n",
    "import numpy as np\n",
    "def bubblesort_numpy(numbers):\n",
    "    numbers = np.array(numbers)\n",
    "    numbers = np.sort(numbers)\n",
    "    return numbers.tolist()\n",
    "\n",
    "\n",
    "numbers = numbers_.copy()\n",
    "%timeit bubblesort(numbers)\n",
    "\n",
    "numbers = numbers_.copy()\n",
    "%timeit bubblesort_opt(numbers)\n",
    "\n",
    "numbers = numbers_.copy()\n",
    "%timeit bubblesort_numpy(numbers)"
   ]
  },
  {
   "cell_type": "markdown",
   "metadata": {},
   "source": [
    "Нахождение простых чисел на C \n",
    "\n",
    "```C \n",
    "#include <stdio.h>\n",
    "\n",
    "int is_prime(int num) {\n",
    "    if(num < 2) {\n",
    "        return 0;\n",
    "    }\n",
    "    for(int i = 2; i <= num/2; i++) {\n",
    "        if(num % i == 0) {\n",
    "            return 0;\n",
    "        }\n",
    "    }\n",
    "    return 1;\n",
    "}\n",
    "\n",
    "void primes() {\n",
    "    int count = 0;\n",
    "    for(int x = 2; x <= 1000000; x++) {\n",
    "        if(is_prime(x)) {\n",
    "            printf(\"%d \", x);\n",
    "            count++;\n",
    "            if(count == 20) {\n",
    "                break;\n",
    "            }\n",
    "        }\n",
    "    }\n",
    "}\n",
    "\n",
    "int main() {\n",
    "    primes();\n",
    "    return 0;\n",
    "}\n",
    "```"
   ]
  },
  {
   "cell_type": "code",
   "execution_count": 5,
   "metadata": {},
   "outputs": [
    {
     "name": "stdout",
     "output_type": "stream",
     "text": [
      "263 ms ± 7.51 ms per loop (mean ± std. dev. of 7 runs, 1 loop each)\n"
     ]
    }
   ],
   "source": [
    "from numba import jit\n",
    "\n",
    "@jit(nopython=True, cache=True)\n",
    "def primes():\n",
    "    primes = []\n",
    "    for x in range(2, 1_000_000):\n",
    "        for d in range(2, int(x**0.5)+1):\n",
    "            if x % d == 0:\n",
    "                break \n",
    "        else:\n",
    "            primes.append(x)\n",
    "    \n",
    "    return primes\n",
    "\n",
    "\n",
    "%timeit primes()"
   ]
  },
  {
   "cell_type": "code",
   "execution_count": 15,
   "metadata": {},
   "outputs": [
    {
     "name": "stdout",
     "output_type": "stream",
     "text": [
      "4.64 ms ± 223 µs per loop (mean ± std. dev. of 7 runs, 100 loops each)\n"
     ]
    }
   ],
   "source": [
    "import numpy as np\n",
    "\n",
    "\n",
    "def primes():\n",
    "    sieve = np.ones(1_000_000//2, dtype=bool)\n",
    "    for i in range(3, int(1_000_000**0.5)+1, 2):\n",
    "        if sieve[i//2]:\n",
    "            sieve[i*i//2::i] = False\n",
    "    primes = 2*np.nonzero(sieve)[0][1::]+1\n",
    "    return primes.tolist()[:20]\n",
    "\n",
    "%timeit primes()"
   ]
  }
 ],
 "metadata": {
  "kernelspec": {
   "display_name": "Python 3",
   "language": "python",
   "name": "python3"
  },
  "language_info": {
   "codemirror_mode": {
    "name": "ipython",
    "version": 3
   },
   "file_extension": ".py",
   "mimetype": "text/x-python",
   "name": "python",
   "nbconvert_exporter": "python",
   "pygments_lexer": "ipython3",
   "version": "3.11.5"
  }
 },
 "nbformat": 4,
 "nbformat_minor": 2
}
