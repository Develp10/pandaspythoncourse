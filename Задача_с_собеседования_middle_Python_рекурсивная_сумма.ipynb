{
 "cells": [
  {
   "cell_type": "code",
   "execution_count": null,
   "metadata": {},
   "outputs": [],
   "source": [
    "# --> 37\n",
    "array = [1, 2, [3, 4, (5), 6, {7}, 8], 1] "
   ]
  },
  {
   "cell_type": "code",
   "execution_count": 2,
   "metadata": {},
   "outputs": [
    {
     "data": {
      "text/plain": [
       "37000"
      ]
     },
     "execution_count": 2,
     "metadata": {},
     "output_type": "execute_result"
    }
   ],
   "source": [
    "def recursive_sum(array):\n",
    "    global sm \n",
    "    iterable = []\n",
    "    for el in array:\n",
    "        if hasattr(el, '__iter__'):\n",
    "            iterable.append(el)\n",
    "        elif type(el) in [int, float]:\n",
    "            sm += el\n",
    "\n",
    "    for el in iterable:\n",
    "        recursive_sum(el)\n",
    "    \n",
    "array = [1, 2, [3, 4, (5), 6, {7}, 8], 1] * 1000 \n",
    "sm = 0\n",
    "recursive_sum(array)     \n",
    "sm "
   ]
  },
  {
   "cell_type": "code",
   "execution_count": 1,
   "metadata": {},
   "outputs": [
    {
     "data": {
      "text/plain": [
       "37000"
      ]
     },
     "execution_count": 1,
     "metadata": {},
     "output_type": "execute_result"
    }
   ],
   "source": [
    "def recursive_sum(*args):\n",
    "    total_sum = 0 \n",
    "    for arg in args:\n",
    "        if hasattr(arg, '__iter__') and not isinstance(arg, str):\n",
    "            total_sum += recursive_sum(*arg) \n",
    "        elif isinstance(arg, (int, float)):\n",
    "            total_sum += arg  \n",
    "    return total_sum \n",
    "\n",
    "array = [1, 2, 'abc', [3, 4, (5), 6, {7, 'xyz'}, 8], 1] * 1000 \n",
    "recursive_sum(array) "
   ]
  },
  {
   "cell_type": "code",
   "execution_count": null,
   "metadata": {},
   "outputs": [],
   "source": [
    "'''\n",
    "Строка 'abc' на позиции [2]\n",
    "Строка 'xyz' на позиции [3][4][0]\n",
    "'''"
   ]
  },
  {
   "cell_type": "code",
   "execution_count": 8,
   "metadata": {},
   "outputs": [
    {
     "name": "stdout",
     "output_type": "stream",
     "text": [
      "CPU times: total: 15.6 ms\n",
      "Wall time: 9 ms\n"
     ]
    },
    {
     "data": {
      "text/plain": [
       "37000"
      ]
     },
     "execution_count": 8,
     "metadata": {},
     "output_type": "execute_result"
    }
   ],
   "source": [
    "%%time \n",
    "\n",
    "def recursive_sum(*args, path=[]):\n",
    "    total_sum = 0 \n",
    "    for index, arg in enumerate(args):\n",
    "        if hasattr(arg, '__iter__') and not isinstance(arg, str):\n",
    "            total_sum += recursive_sum(*arg, path=path+[index]) \n",
    "        elif isinstance(arg, (int, float)):\n",
    "            total_sum += arg  \n",
    "        # elif isinstance(arg, str):\n",
    "        #     print(f\"Строка '{arg}' на позиции\", ''.join(f'[{n}]' for n in path+[index]))\n",
    "    return total_sum \n",
    "\n",
    "array = [1, 2, 'abc', [3, 4, (5), 6, {7, 'xyz'}, 8], 1] * 1000 \n",
    "recursive_sum(*array) "
   ]
  },
  {
   "cell_type": "code",
   "execution_count": 10,
   "metadata": {},
   "outputs": [
    {
     "name": "stdout",
     "output_type": "stream",
     "text": [
      "37000\n",
      "CPU times: total: 31.2 ms\n",
      "Wall time: 23 ms\n"
     ]
    }
   ],
   "source": [
    "%%time \n",
    "\n",
    "import asyncio\n",
    "import nest_asyncio\n",
    "nest_asyncio.apply()\n",
    "\n",
    "async def recursive_sum(*args, path=[]):\n",
    "    total_sum = 0 \n",
    "    for index, arg in enumerate(args):\n",
    "        if hasattr(arg, '__iter__') and not isinstance(arg, str):\n",
    "            total_sum += await recursive_sum(*arg, path=path+[index]) \n",
    "        elif isinstance(arg, (int, float)):\n",
    "            total_sum += arg  \n",
    "        # elif isinstance(arg, str):\n",
    "        #     print(f\"Строка '{arg}' на позиции\", ''.join(f'[{n}]' for n in path+[index]))\n",
    "    return total_sum \n",
    "\n",
    "array = [1, 2, 'abc', [3, 4, (5), 6, {7, 'xyz'}, 8], 1] * 1000 \n",
    "\n",
    "loop = asyncio.get_event_loop()\n",
    "result = loop.run_until_complete(recursive_sum(*array))\n",
    "print(result)"
   ]
  },
  {
   "cell_type": "code",
   "execution_count": 11,
   "metadata": {},
   "outputs": [
    {
     "name": "stdout",
     "output_type": "stream",
     "text": [
      "37000\n",
      "CPU times: total: 672 ms\n",
      "Wall time: 632 ms\n"
     ]
    }
   ],
   "source": [
    "%%time \n",
    "import concurrent.futures\n",
    "\n",
    "def recursive_sum(*args, path=[]):\n",
    "    total_sum = 0 \n",
    "    with concurrent.futures.ThreadPoolExecutor() as executor:\n",
    "        futures = []\n",
    "        for index, arg in enumerate(args):\n",
    "            if hasattr(arg, '__iter__') and not isinstance(arg, str):\n",
    "                future = executor.submit(recursive_sum, *arg, path=path+[index])\n",
    "                futures.append(future)\n",
    "            elif isinstance(arg, (int, float)):\n",
    "                total_sum += arg  \n",
    "            # elif isinstance(arg, str):\n",
    "            #     print(f\"Строка '{arg}' на позиции\", ''.join(f'[{n}]' for n in path[1:]+[index]))\n",
    "        for future in concurrent.futures.as_completed(futures):\n",
    "            total_sum += future.result()\n",
    "    return total_sum\n",
    "\n",
    "b = [1, 2, 'abc', [3, 4, (5), 6, {7, 'xyz'}, 8], 1] * 1000\n",
    "result = recursive_sum(b)\n",
    "print(result)"
   ]
  }
 ],
 "metadata": {
  "kernelspec": {
   "display_name": "Python 3",
   "language": "python",
   "name": "python3"
  },
  "language_info": {
   "codemirror_mode": {
    "name": "ipython",
    "version": 3
   },
   "file_extension": ".py",
   "mimetype": "text/x-python",
   "name": "python",
   "nbconvert_exporter": "python",
   "pygments_lexer": "ipython3",
   "version": "3.11.5"
  }
 },
 "nbformat": 4,
 "nbformat_minor": 2
}
